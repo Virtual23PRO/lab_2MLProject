{
 "cells": [
  {
   "cell_type": "markdown",
   "id": "899fe32f",
   "metadata": {},
   "source": [
    "1. Download data"
   ]
  },
  {
   "cell_type": "code",
   "execution_count": null,
   "id": "6c538a7e",
   "metadata": {},
   "outputs": [
    {
     "name": "stdout",
     "output_type": "stream",
     "text": [
      "./data_homework/distances-2022.csv: No such file or directory\n",
      "./data_homework/stations-2023.csv: No such file or directory\n",
      "--2025-10-29 18:51:03--  https://opendata.rijdendetreinen.nl/public/disruptions/\n",
      "Resolving opendata.rijdendetreinen.nl (opendata.rijdendetreinen.nl)... 188.114.97.10, 188.114.96.10, 2a06:98c1:3121::9, ...\n",
      "Connecting to opendata.rijdendetreinen.nl (opendata.rijdendetreinen.nl)|188.114.97.10|:443... connected.\n",
      "HTTP request sent, awaiting response... 200 OK\n",
      "Length: unspecified [text/html]\n",
      "Saving to: ‘./data_homework/disruptions/index.html.tmp’\n",
      "\n",
      "index.html.tmp          [ <=>                ]   1,71K  --.-KB/s    in 0s      \n",
      "\n",
      "2025-10-29 18:51:04 (46,5 MB/s) - ‘./data_homework/disruptions/index.html.tmp’ saved [1755]\n",
      "\n",
      "Loading robots.txt; please ignore errors.\n",
      "--2025-10-29 18:51:04--  https://opendata.rijdendetreinen.nl/robots.txt\n",
      "Reusing existing connection to opendata.rijdendetreinen.nl:443.\n",
      "HTTP request sent, awaiting response... 200 OK\n",
      "Length: 25 [text/plain]\n",
      "Saving to: ‘./data_homework/disruptions/robots.txt.tmp’\n",
      "\n",
      "robots.txt.tmp      100%[===================>]      25  --.-KB/s    in 0s      \n",
      "\n",
      "2025-10-29 18:51:04 (42,5 MB/s) - ‘./data_homework/disruptions/robots.txt.tmp’ saved [25/25]\n",
      "\n",
      "Removing ./data_homework/disruptions/robots.txt.tmp.\n",
      "Removing ./data_homework/disruptions/index.html.tmp since it should be rejected.\n",
      "\n",
      "--2025-10-29 18:51:04--  https://opendata.rijdendetreinen.nl/public/\n",
      "Reusing existing connection to opendata.rijdendetreinen.nl:443.\n",
      "HTTP request sent, awaiting response... 200 OK\n",
      "Length: unspecified [text/html]\n",
      "Saving to: ‘./data_homework/disruptions/index.html.tmp’\n",
      "\n",
      "index.html.tmp          [ <=>                ]     568  --.-KB/s    in 0s      \n",
      "\n",
      "2025-10-29 18:51:04 (395 MB/s) - ‘./data_homework/disruptions/index.html.tmp’ saved [568]\n",
      "\n",
      "Removing ./data_homework/disruptions/index.html.tmp since it should be rejected.\n",
      "\n",
      "--2025-10-29 18:51:04--  https://opendata.rijdendetreinen.nl/public/disruptions/disruptions-2011.csv\n",
      "Reusing existing connection to opendata.rijdendetreinen.nl:443.\n",
      "HTTP request sent, awaiting response... 200 OK\n",
      "Length: 410085 (400K) [application/octet-stream]\n",
      "Saving to: ‘./data_homework/disruptions/disruptions-2011.csv’\n",
      "\n",
      "disruptions-2011.cs 100%[===================>] 400,47K  --.-KB/s    in 0,08s   \n",
      "\n",
      "2025-10-29 18:51:04 (4,95 MB/s) - ‘./data_homework/disruptions/disruptions-2011.csv’ saved [410085/410085]\n",
      "\n",
      "--2025-10-29 18:51:04--  https://opendata.rijdendetreinen.nl/public/disruptions/disruptions-2012.csv\n",
      "Reusing existing connection to opendata.rijdendetreinen.nl:443.\n",
      "HTTP request sent, awaiting response... 200 OK\n",
      "Length: 475258 (464K) [application/octet-stream]\n",
      "Saving to: ‘./data_homework/disruptions/disruptions-2012.csv’\n",
      "\n",
      "disruptions-2012.cs 100%[===================>] 464,12K  --.-KB/s    in 0,1s    \n",
      "\n",
      "2025-10-29 18:51:04 (4,24 MB/s) - ‘./data_homework/disruptions/disruptions-2012.csv’ saved [475258/475258]\n",
      "\n",
      "--2025-10-29 18:51:04--  https://opendata.rijdendetreinen.nl/public/disruptions/disruptions-2013.csv\n",
      "Reusing existing connection to opendata.rijdendetreinen.nl:443.\n",
      "HTTP request sent, awaiting response... 200 OK\n",
      "Length: 510455 (498K) [application/octet-stream]\n",
      "Saving to: ‘./data_homework/disruptions/disruptions-2013.csv’\n",
      "\n",
      "disruptions-2013.cs 100%[===================>] 498,49K  --.-KB/s    in 0,1s    \n",
      "\n",
      "2025-10-29 18:51:04 (4,21 MB/s) - ‘./data_homework/disruptions/disruptions-2013.csv’ saved [510455/510455]\n",
      "\n",
      "--2025-10-29 18:51:04--  https://opendata.rijdendetreinen.nl/public/disruptions/disruptions-2014.csv\n",
      "Reusing existing connection to opendata.rijdendetreinen.nl:443.\n",
      "HTTP request sent, awaiting response... 200 OK\n",
      "Length: 543385 (531K) [application/octet-stream]\n",
      "Saving to: ‘./data_homework/disruptions/disruptions-2014.csv’\n",
      "\n",
      "disruptions-2014.cs 100%[===================>] 530,65K  --.-KB/s    in 0,1s    \n",
      "\n",
      "2025-10-29 18:51:05 (5,02 MB/s) - ‘./data_homework/disruptions/disruptions-2014.csv’ saved [543385/543385]\n",
      "\n",
      "--2025-10-29 18:51:05--  https://opendata.rijdendetreinen.nl/public/disruptions/disruptions-2015.csv\n",
      "Reusing existing connection to opendata.rijdendetreinen.nl:443.\n",
      "HTTP request sent, awaiting response... 200 OK\n",
      "Length: 653940 (639K) [application/octet-stream]\n",
      "Saving to: ‘./data_homework/disruptions/disruptions-2015.csv’\n",
      "\n",
      "disruptions-2015.cs 100%[===================>] 638,61K  --.-KB/s    in 0,1s    \n",
      "\n",
      "2025-10-29 18:51:05 (5,32 MB/s) - ‘./data_homework/disruptions/disruptions-2015.csv’ saved [653940/653940]\n",
      "\n",
      "--2025-10-29 18:51:05--  https://opendata.rijdendetreinen.nl/public/disruptions/disruptions-2016.csv\n",
      "Reusing existing connection to opendata.rijdendetreinen.nl:443.\n",
      "HTTP request sent, awaiting response... 200 OK\n",
      "Length: 675013 (659K) [application/octet-stream]\n",
      "Saving to: ‘./data_homework/disruptions/disruptions-2016.csv’\n",
      "\n",
      "disruptions-2016.cs 100%[===================>] 659,19K  --.-KB/s    in 0,1s    \n",
      "\n",
      "2025-10-29 18:51:05 (6,61 MB/s) - ‘./data_homework/disruptions/disruptions-2016.csv’ saved [675013/675013]\n",
      "\n",
      "--2025-10-29 18:51:05--  https://opendata.rijdendetreinen.nl/public/disruptions/disruptions-2017.csv\n",
      "Reusing existing connection to opendata.rijdendetreinen.nl:443.\n",
      "HTTP request sent, awaiting response... 200 OK\n",
      "Length: 1267976 (1,2M) [application/octet-stream]\n",
      "Saving to: ‘./data_homework/disruptions/disruptions-2017.csv’\n",
      "\n",
      "disruptions-2017.cs 100%[===================>]   1,21M  --.-KB/s    in 0,1s    \n",
      "\n",
      "2025-10-29 18:51:05 (8,16 MB/s) - ‘./data_homework/disruptions/disruptions-2017.csv’ saved [1267976/1267976]\n",
      "\n",
      "--2025-10-29 18:51:05--  https://opendata.rijdendetreinen.nl/public/disruptions/disruptions-2018.csv\n",
      "Reusing existing connection to opendata.rijdendetreinen.nl:443.\n",
      "HTTP request sent, awaiting response... 200 OK\n",
      "Length: 1581489 (1,5M) [application/octet-stream]\n",
      "Saving to: ‘./data_homework/disruptions/disruptions-2018.csv’\n",
      "\n",
      "disruptions-2018.cs 100%[===================>]   1,51M  8,21MB/s    in 0,2s    \n",
      "\n",
      "2025-10-29 18:51:06 (8,21 MB/s) - ‘./data_homework/disruptions/disruptions-2018.csv’ saved [1581489/1581489]\n",
      "\n",
      "--2025-10-29 18:51:06--  https://opendata.rijdendetreinen.nl/public/disruptions/disruptions-2019.csv\n",
      "Reusing existing connection to opendata.rijdendetreinen.nl:443.\n",
      "HTTP request sent, awaiting response... 200 OK\n",
      "Length: 1848697 (1,8M) [application/octet-stream]\n",
      "Saving to: ‘./data_homework/disruptions/disruptions-2019.csv’\n",
      "\n",
      "disruptions-2019.cs 100%[===================>]   1,76M  8,81MB/s    in 0,2s    \n",
      "\n",
      "2025-10-29 18:51:06 (8,81 MB/s) - ‘./data_homework/disruptions/disruptions-2019.csv’ saved [1848697/1848697]\n",
      "\n",
      "--2025-10-29 18:51:06--  https://opendata.rijdendetreinen.nl/public/disruptions/disruptions-2020.csv\n",
      "Reusing existing connection to opendata.rijdendetreinen.nl:443.\n",
      "HTTP request sent, awaiting response... 200 OK\n",
      "Length: 1338052 (1,3M) [application/octet-stream]\n",
      "Saving to: ‘./data_homework/disruptions/disruptions-2020.csv’\n",
      "\n",
      "disruptions-2020.cs 100%[===================>]   1,28M  7,56MB/s    in 0,2s    \n",
      "\n",
      "2025-10-29 18:51:06 (7,56 MB/s) - ‘./data_homework/disruptions/disruptions-2020.csv’ saved [1338052/1338052]\n",
      "\n",
      "--2025-10-29 18:51:06--  https://opendata.rijdendetreinen.nl/public/disruptions/disruptions-2021.csv\n",
      "Reusing existing connection to opendata.rijdendetreinen.nl:443.\n",
      "HTTP request sent, awaiting response... 200 OK\n",
      "Length: 1438033 (1,4M) [application/octet-stream]\n",
      "Saving to: ‘./data_homework/disruptions/disruptions-2021.csv’\n",
      "\n",
      "disruptions-2021.cs 100%[===================>]   1,37M  8,19MB/s    in 0,2s    \n",
      "\n",
      "2025-10-29 18:51:06 (8,19 MB/s) - ‘./data_homework/disruptions/disruptions-2021.csv’ saved [1438033/1438033]\n",
      "\n",
      "--2025-10-29 18:51:06--  https://opendata.rijdendetreinen.nl/public/disruptions/disruptions-2022.csv\n",
      "Reusing existing connection to opendata.rijdendetreinen.nl:443.\n",
      "HTTP request sent, awaiting response... 200 OK\n",
      "Length: 1693668 (1,6M) [application/octet-stream]\n",
      "Saving to: ‘./data_homework/disruptions/disruptions-2022.csv’\n",
      "\n",
      "disruptions-2022.cs 100%[===================>]   1,61M  --.-KB/s    in 0,1s    \n",
      "\n",
      "2025-10-29 18:51:07 (10,8 MB/s) - ‘./data_homework/disruptions/disruptions-2022.csv’ saved [1693668/1693668]\n",
      "\n",
      "--2025-10-29 18:51:07--  https://opendata.rijdendetreinen.nl/public/disruptions/disruptions-2023.csv\n",
      "Reusing existing connection to opendata.rijdendetreinen.nl:443.\n",
      "HTTP request sent, awaiting response... 200 OK\n",
      "Length: 1632642 (1,6M) [application/octet-stream]\n",
      "Saving to: ‘./data_homework/disruptions/disruptions-2023.csv’\n",
      "\n",
      "disruptions-2023.cs 100%[===================>]   1,56M  --.-KB/s    in 0,1s    \n",
      "\n",
      "2025-10-29 18:51:07 (11,1 MB/s) - ‘./data_homework/disruptions/disruptions-2023.csv’ saved [1632642/1632642]\n",
      "\n",
      "--2025-10-29 18:51:07--  https://opendata.rijdendetreinen.nl/public/disruptions/disruptions-2024.csv\n",
      "Reusing existing connection to opendata.rijdendetreinen.nl:443.\n",
      "HTTP request sent, awaiting response... 200 OK\n",
      "Length: 1871062 (1,8M) [application/octet-stream]\n",
      "Saving to: ‘./data_homework/disruptions/disruptions-2024.csv’\n",
      "\n",
      "disruptions-2024.cs 100%[===================>]   1,78M  8,77MB/s    in 0,2s    \n",
      "\n",
      "2025-10-29 18:51:07 (8,77 MB/s) - ‘./data_homework/disruptions/disruptions-2024.csv’ saved [1871062/1871062]\n",
      "\n",
      "FINISHED --2025-10-29 18:51:07--\n",
      "Total wall clock time: 3,8s\n",
      "Downloaded: 17 files, 15M in 2,0s (7,68 MB/s)\n",
      "--2025-10-29 18:51:07--  https://opendata.rijdendetreinen.nl/public/services/services-2025.csv.gz\n",
      "Resolving opendata.rijdendetreinen.nl (opendata.rijdendetreinen.nl)... 188.114.97.9, 188.114.96.9, 2a06:98c1:3120::9, ...\n",
      "Connecting to opendata.rijdendetreinen.nl (opendata.rijdendetreinen.nl)|188.114.97.9|:443... connected.\n",
      "HTTP request sent, awaiting response... 404 Not Found\n",
      "2025-10-29 18:51:08 ERROR 404: Not Found.\n",
      "\n",
      "\n",
      "gzip: ./data_homework/services-2025.csv.gz: unexpected end of file\n",
      "--2025-10-29 18:51:08--  https://opendata.rijdendetreinen.nl/public/services/services-2024.csv.gz\n",
      "Resolving opendata.rijdendetreinen.nl (opendata.rijdendetreinen.nl)... 188.114.97.9, 188.114.96.9, 2a06:98c1:3120::9, ...\n",
      "Connecting to opendata.rijdendetreinen.nl (opendata.rijdendetreinen.nl)|188.114.97.9|:443... connected.\n",
      "HTTP request sent, awaiting response... 200 OK\n",
      "Length: 391243880 (373M) [application/octet-stream]\n",
      "Saving to: ‘./data_homework/services-2024.csv.gz’\n",
      "\n",
      "./data_homework/ser 100%[===================>] 373,12M  11,2MB/s    in 34s     \n",
      "\n",
      "2025-10-29 18:51:43 (10,9 MB/s) - ‘./data_homework/services-2024.csv.gz’ saved [391243880/391243880]\n",
      "\n",
      "--2025-10-29 18:51:53--  https://opendata.rijdendetreinen.nl/public/services/services-2023.csv.gz\n",
      "Resolving opendata.rijdendetreinen.nl (opendata.rijdendetreinen.nl)... 188.114.97.9, 188.114.96.9, 2a06:98c1:3121::9, ...\n",
      "Connecting to opendata.rijdendetreinen.nl (opendata.rijdendetreinen.nl)|188.114.97.9|:443... connected.\n",
      "HTTP request sent, awaiting response... 200 OK\n",
      "Length: 378407946 (361M) [application/octet-stream]\n",
      "Saving to: ‘./data_homework/services-2023.csv.gz’\n",
      "\n",
      "./data_homework/ser 100%[===================>] 360,88M  10,2MB/s    in 33s     \n",
      "\n",
      "2025-10-29 18:52:26 (10,9 MB/s) - ‘./data_homework/services-2023.csv.gz’ saved [378407946/378407946]\n",
      "\n",
      "--2025-10-29 18:52:37--  https://opendata.rijdendetreinen.nl/public/services/services-2022.csv.gz\n",
      "Resolving opendata.rijdendetreinen.nl (opendata.rijdendetreinen.nl)... 188.114.96.9, 188.114.97.9, 2a06:98c1:3121::9, ...\n",
      "Connecting to opendata.rijdendetreinen.nl (opendata.rijdendetreinen.nl)|188.114.96.9|:443... connected.\n",
      "HTTP request sent, awaiting response... 200 OK\n",
      "Length: 389990314 (372M) [application/octet-stream]\n",
      "Saving to: ‘./data_homework/services-2022.csv.gz’\n",
      "\n",
      "./data_homework/ser 100%[===================>] 371,92M  11,2MB/s    in 34s     \n",
      "\n",
      "2025-10-29 18:53:11 (11,0 MB/s) - ‘./data_homework/services-2022.csv.gz’ saved [389990314/389990314]\n",
      "\n",
      "--2025-10-29 18:53:22--  https://opendata.rijdendetreinen.nl/public/services/services-2021.csv.gz\n",
      "Resolving opendata.rijdendetreinen.nl (opendata.rijdendetreinen.nl)... 188.114.96.9, 188.114.97.9, 2a06:98c1:3121::9, ...\n",
      "Connecting to opendata.rijdendetreinen.nl (opendata.rijdendetreinen.nl)|188.114.96.9|:443... connected.\n",
      "HTTP request sent, awaiting response... 200 OK\n",
      "Length: 384255771 (366M) [application/octet-stream]\n",
      "Saving to: ‘./data_homework/services-2021.csv.gz’\n",
      "\n",
      "./data_homework/ser 100%[===================>] 366,45M  10,9MB/s    in 34s     \n",
      "\n",
      "2025-10-29 18:53:55 (10,9 MB/s) - ‘./data_homework/services-2021.csv.gz’ saved [384255771/384255771]\n",
      "\n",
      "--2025-10-29 18:54:06--  https://opendata.rijdendetreinen.nl/public/services/services-2020.csv.gz\n",
      "Resolving opendata.rijdendetreinen.nl (opendata.rijdendetreinen.nl)... 188.114.96.9, 188.114.97.9, 2a06:98c1:3120::9, ...\n",
      "Connecting to opendata.rijdendetreinen.nl (opendata.rijdendetreinen.nl)|188.114.96.9|:443... connected.\n",
      "HTTP request sent, awaiting response... 200 OK\n",
      "Length: 388565488 (371M) [application/octet-stream]\n",
      "Saving to: ‘./data_homework/services-2020.csv.gz’\n",
      "\n",
      "./data_homework/ser 100%[===================>] 370,56M  10,8MB/s    in 34s     \n",
      "\n",
      "2025-10-29 18:54:40 (10,9 MB/s) - ‘./data_homework/services-2020.csv.gz’ saved [388565488/388565488]\n",
      "\n",
      "--2025-10-29 18:54:51--  https://opendata.rijdendetreinen.nl/public/services/services-2019.csv.gz\n",
      "Resolving opendata.rijdendetreinen.nl (opendata.rijdendetreinen.nl)... 188.114.97.9, 188.114.96.9, 2a06:98c1:3120::9, ...\n",
      "Connecting to opendata.rijdendetreinen.nl (opendata.rijdendetreinen.nl)|188.114.97.9|:443... connected.\n",
      "HTTP request sent, awaiting response... 200 OK\n",
      "Length: 382832398 (365M) [application/octet-stream]\n",
      "Saving to: ‘./data_homework/services-2019.csv.gz’\n",
      "\n",
      "./data_homework/ser 100%[===================>] 365,10M  10,4MB/s    in 34s     \n",
      "\n",
      "2025-10-29 18:55:25 (10,9 MB/s) - ‘./data_homework/services-2019.csv.gz’ saved [382832398/382832398]\n",
      "\n"
     ]
    }
   ],
   "source": [
    "\n",
    "# train disruptions (2011–2024)\n",
    "!wget -r -l1 -A \"*.csv\" -nd -P ./data_homework/disruptions/ https://opendata.rijdendetreinen.nl/public/disruptions/\n",
    "\n",
    "# train services (2019–2025)\n",
    "!wget https://opendata.rijdendetreinen.nl/public/services/services-2025.csv.gz -O ./data_homework/services-2025.csv.gz\n",
    "!gunzip ./data_homework/services-2025.csv.gz\n",
    "\n",
    "!wget https://opendata.rijdendetreinen.nl/public/services/services-2024.csv.gz -O ./data_homework/services-2024.csv.gz\n",
    "!gunzip ./data_homework/services-2024.csv.gz\n",
    "\n",
    "!wget https://opendata.rijdendetreinen.nl/public/services/services-2023.csv.gz -O ./data_homework/services-2023.csv.gz\n",
    "!gunzip ./data_homework/services-2023.csv.gz\n",
    "\n",
    "!wget https://opendata.rijdendetreinen.nl/public/services/services-2022.csv.gz -O ./data_homework/services-2022.csv.gz\n",
    "!gunzip ./data_homework/services-2022.csv.gz\n",
    "\n",
    "!wget https://opendata.rijdendetreinen.nl/public/services/services-2021.csv.gz -O ./data_homework/services-2021.csv.gz\n",
    "!gunzip ./data_homework/services-2021.csv.gz\n",
    "\n",
    "!wget https://opendata.rijdendetreinen.nl/public/services/services-2020.csv.gz -O ./data_homework/services-2020.csv.gz\n",
    "!gunzip ./data_homework/services-2020.csv.gz\n",
    "\n",
    "!wget https://opendata.rijdendetreinen.nl/public/services/services-2019.csv.gz -O ./data_homework/services-2019.csv.gz\n",
    "!gunzip ./data_homework/services-2019.csv.gz\n"
   ]
  },
  {
   "cell_type": "code",
   "execution_count": null,
   "id": "1f5e74fd",
   "metadata": {},
   "outputs": [
    {
     "name": "stdout",
     "output_type": "stream",
     "text": [
      "--2025-10-29 19:22:20--  https://opendata.rijdendetreinen.nl/public/stations/stations-2023-09-nl.csv\n",
      "Resolving opendata.rijdendetreinen.nl (opendata.rijdendetreinen.nl)... 188.114.96.9, 188.114.97.9, 2a06:98c1:3120::9, ...\n",
      "Connecting to opendata.rijdendetreinen.nl (opendata.rijdendetreinen.nl)|188.114.96.9|:443... connected.\n",
      "HTTP request sent, awaiting response... 200 OK\n",
      "Length: 44473 (43K) [application/octet-stream]\n",
      "Saving to: ‘./data_homework/stations-2023.csv’\n",
      "\n",
      "./data_homework/sta 100%[===================>]  43,43K  --.-KB/s    in 0,02s   \n",
      "\n",
      "2025-10-29 19:22:21 (2,68 MB/s) - ‘./data_homework/stations-2023.csv’ saved [44473/44473]\n",
      "\n"
     ]
    }
   ],
   "source": [
    "# railway stations (2023)\n",
    "!wget https://opendata.rijdendetreinen.nl/public/stations/stations-2023-09-nl.csv -O ./data_homework/stations-2023.csv\n"
   ]
  },
  {
   "cell_type": "code",
   "execution_count": 13,
   "id": "574dbf19",
   "metadata": {},
   "outputs": [
    {
     "name": "stdout",
     "output_type": "stream",
     "text": [
      "--2025-10-29 19:44:29--  https://opendata.rijdendetreinen.nl/public/tariff-distances/tariff-distances-2022-01.csv\n",
      "Resolving opendata.rijdendetreinen.nl (opendata.rijdendetreinen.nl)... 188.114.96.10, 188.114.97.10, 2a06:98c1:3121::9, ...\n",
      "Connecting to opendata.rijdendetreinen.nl (opendata.rijdendetreinen.nl)|188.114.96.10|:443... connected.\n",
      "HTTP request sent, awaiting response... 200 OK\n",
      "Length: 583534 (570K) [application/octet-stream]\n",
      "Saving to: ‘./data_homework/distances-2022.csv’\n",
      "\n",
      "./data_homework/dis 100%[===================>] 569,86K  --.-KB/s    in 0,1s    \n",
      "\n",
      "2025-10-29 19:44:29 (5,03 MB/s) - ‘./data_homework/distances-2022.csv’ saved [583534/583534]\n",
      "\n"
     ]
    }
   ],
   "source": [
    "# inter-station distances (2022)\n",
    "!wget https://opendata.rijdendetreinen.nl/public/tariff-distances/tariff-distances-2022-01.csv -O ./data_homework/distances-2022.csv"
   ]
  },
  {
   "cell_type": "markdown",
   "id": "51ff8eb3",
   "metadata": {},
   "source": [
    "## 2. Stations table "
   ]
  },
  {
   "cell_type": "code",
   "execution_count": 10,
   "id": "2d748dd7",
   "metadata": {},
   "outputs": [],
   "source": [
    "import duckdb\n",
    "\n",
    "db = duckdb.connect('data_homework/train.duckdb')\n",
    "\n",
    "db.sql(f\"\"\"\n",
    "  CREATE OR REPLACE TABLE stations AS\n",
    "  SELECT * FROM './data_homework/stations-2023.csv'\n",
    "\"\"\")\n"
   ]
  },
  {
   "cell_type": "code",
   "execution_count": 12,
   "id": "8efcf12f",
   "metadata": {},
   "outputs": [
    {
     "name": "stdout",
     "output_type": "stream",
     "text": [
      "┌───────┬─────────┬─────────┬────────────┬──────────────────┬───────────────────────┬──────────────────────┬─────────┬───────────────────────────┬─────────────────┬─────────────────┐\n",
      "│  id   │  code   │   uic   │ name_short │   name_medium    │       name_long       │         slug         │ country │           type            │     geo_lat     │     geo_lng     │\n",
      "│ int64 │ varchar │  int64  │  varchar   │     varchar      │        varchar        │       varchar        │ varchar │          varchar          │     double      │     double      │\n",
      "├───────┼─────────┼─────────┼────────────┼──────────────────┼───────────────────────┼──────────────────────┼─────────┼───────────────────────────┼─────────────────┼─────────────────┤\n",
      "│   266 │ HT      │ 8400319 │ Den Bosch  │ 's-Hertogenbosch │ 's-Hertogenbosch      │ s-hertogenbosch      │ NL      │ knooppuntIntercitystation │        51.69048 │         5.29362 │\n",
      "│   269 │ HTO     │ 8400320 │ Dn Bosch O │ 's-Hertogenb. O. │ 's-Hertogenbosch Oost │ s-hertogenbosch-oost │ NL      │ stoptreinstation          │ 51.700553894043 │ 5.3183331489563 │\n",
      "│   227 │ HDE     │ 8400388 │ 't Harde   │ 't Harde         │ 't Harde              │ t-harde              │ NL      │ stoptreinstation          │      52.4091682 │        5.893611 │\n",
      "│    51 │ ATN     │ 8400045 │ Aalten     │ Aalten           │ Aalten                │ aalten               │ NL      │ stoptreinstation          │ 51.921326524551 │ 6.5786272287369 │\n",
      "│     5 │ AC      │ 8400047 │ Abcoude    │ Abcoude          │ Abcoude               │ abcoude              │ NL      │ stoptreinstation          │         52.2785 │           4.977 │\n",
      "└───────┴─────────┴─────────┴────────────┴──────────────────┴───────────────────────┴──────────────────────┴─────────┴───────────────────────────┴─────────────────┴─────────────────┘\n",
      "\n"
     ]
    }
   ],
   "source": [
    "db.sql(\"SELECT * FROM stations LIMIT 5\").show()"
   ]
  },
  {
   "cell_type": "markdown",
   "id": "a6188e55",
   "metadata": {},
   "source": [
    "## 3. Distance Table and distance long "
   ]
  },
  {
   "cell_type": "code",
   "execution_count": 14,
   "id": "fb9af187",
   "metadata": {},
   "outputs": [],
   "source": [
    "db.sql(\"\"\"\n",
    "    CREATE TABLE distances AS\n",
    "    SELECT *\n",
    "    FROM read_csv('data_homework/distances-2022.csv',\n",
    "    nullstr = 'XXX'\n",
    "    );\n",
    "\"\"\")"
   ]
  },
  {
   "cell_type": "code",
   "execution_count": 16,
   "id": "fa1d1455",
   "metadata": {},
   "outputs": [
    {
     "name": "stdout",
     "output_type": "stream",
     "text": [
      "┌─────────┬───────┬───────┬───────┬───────┬───────┬───────┬───────┬───────┬───────┬───────┬───────┬───────┬───────┬───────┬───────┬───────┬───────┬───────┬───────┬───────┬───────┬───────┬───────┬───────┬───────┬───────┬───────┬───────┬───────┬───────┬───────┬───────┬───────┬───────┬───────┬───────┬───────┬───────┬───────┬───────┬───────┬───────┬───────┬───────┬───────┬───────┬───────┬───────┬───────┬───────┬───────┬───────┬───────┬───────┬───────┬───────┬───────┬───────┬───────┬───────┬───────┬───────┬───────┬───────┬───────┬───────┬───────┬───────┬───────┬───────┬───────┬───────┬───────┬───────┬───────┬───────┬───────┬───────┬───────┬───────┬───────┬───────┬───────┬───────┬───────┬───────┬───────┬───────┬───────┬───────┬───────┬───────┬───────┬───────┬───────┬───────┬───────┬───────┬───────┬───────┬───────┬───────┬───────┬───────┬───────┬───────┬───────┬───────┬───────┬───────┬───────┬───────┬───────┬───────┬───────┬───────┬───────┬───────┬───────┬───────┬───────┬───────┬───────┬───────┬───────┬───────┬───────┬───────┬───────┬───────┬───────┬───────┬───────┬───────┬───────┬───────┬───────┬───────┬───────┬───────┬───────┬───────┬───────┬───────┬───────┬───────┬───────┬───────┬───────┬───────┬───────┬───────┬───────┬───────┬───────┬───────┬───────┬───────┬───────┬───────┬───────┬───────┬───────┬───────┬───────┬───────┬───────┬───────┬───────┬───────┬───────┬───────┬───────┬───────┬───────┬───────┬───────┬───────┬───────┬───────┬───────┬───────┬───────┬───────┬───────┬───────┬───────┬───────┬───────┬───────┬───────┬───────┬───────┬───────┬───────┬───────┬───────┬───────┬───────┬───────┬───────┬───────┬───────┬───────┬───────┬───────┬───────┬───────┬───────┬───────┬───────┬───────┬───────┬───────┬───────┬───────┬───────┬───────┬───────┬───────┬───────┬───────┬───────┬───────┬───────┬───────┬───────┬───────┬───────┬───────┬───────┬───────┬───────┬───────┬───────┬───────┬───────┬───────┬───────┬───────┬───────┬───────┬───────┬───────┬───────┬───────┬───────┬───────┬───────┬───────┬───────┬───────┬───────┬───────┬───────┬───────┬───────┬───────┬───────┬───────┬───────┬───────┬───────┬───────┬───────┬───────┬───────┬───────┬───────┬───────┬───────┬───────┬───────┬───────┬───────┬───────┬───────┬───────┬───────┬───────┬───────┬───────┬───────┬───────┬───────┬───────┬───────┬───────┬───────┬───────┬───────┬───────┬───────┬───────┬───────┬───────┬───────┬───────┬───────┬───────┬───────┬───────┬───────┬───────┬───────┬───────┬───────┬───────┬───────┬───────┬───────┬───────┬───────┬───────┬───────┬───────┬───────┬───────┬───────┬───────┬───────┬───────┬───────┬───────┬───────┬───────┬───────┬───────┬───────┬───────┬───────┬───────┬───────┬───────┬───────┬───────┬───────┬───────┬───────┬───────┬───────┬───────┬───────┬───────┬───────┬───────┬───────┬───────┬───────┬───────┬───────┬───────┬───────┬───────┬───────┬───────┬───────┬───────┬───────┬───────┬───────┬───────┬───────┬───────┬───────┬───────┬───────┬───────┬───────┬───────┬───────┬───────┬───────┬───────┬───────┬───────┬───────┬───────┬───────┬───────┬───────┬───────┬───────┬───────┬───────┬───────┬───────┬───────┬───────┬───────┬───────┬───────┬───────┬───────┬───────┬───────┬───────┬───────┬───────┐\n",
      "│ Station │  AC   │  AH   │  AHP  │ AHPR  │  AHZ  │  AKL  │  AKM  │  ALM  │ ALMB  │ ALMM  │ ALMO  │ ALMP  │  AMF  │ AMFS  │  AML  │ AMPO  │  AMR  │ AMRI  │ AMRN  │  ANA  │  APD  │ APDM  │ APDO  │  APG  │  APN  │  ARN  │  ASA  │  ASB  │  ASD  │ ASDL  │ ASDM  │ ASDZ  │ ASHD  │  ASN  │  ASS  │ ASSP  │  ATN  │ AVAT  │  BD   │  BDE  │  BDG  │  BDM  │ BDPB  │  BET  │  BF   │  BGN  │ BHDV  │  BHV  │  BK   │  BKF  │  BKG  │  BKL  │  BL   │  BLL  │  BMN  │  BMR  │  BN   │  BNC  │  BNK  │  BNN  │  BNZ  │  BP   │  BR   │  BRD  │  BRN  │  BSD  │  BSK  │ BSKS  │ BSMZ  │  BTL  │  BV   │  BZL  │  CAS  │  CK   │  CL   │  CO   │  CPS  │  CVM  │  DA   │  DB   │  DDN  │  DDR  │ DDRS  │ DDZD  │  DEI  │  DID  │  DL   │  DLD  │  DLN  │  DMN  │ DMNZ  │  DN   │  DR   │  DRH  │ DRON  │  DRP  │  DT   │  DTC  │ DTCH  │ DTCP  │  DV   │  DVC  │  DVD  │  DVN  │ DVNK  │  DWE  │  DZ   │  DZW  │  EC   │  ED   │  EDC  │  EDN  │  EEM  │  EGH  │ EGHM  │  EHS  │  EHV  │  EKZ  │  EML  │  EMN  │ EMNZ  │  ES   │  ESE  │  ESK  │  EST  │  ETN  │  FN   │  FWD  │  GBG  │  GBR  │  GD   │  GDG  │  GDM  │  GDR  │ GERP  │  GK   │  GLN  │  GN   │  GND  │  GNN  │  GO   │  GP   │  GR   │  GS   │  GV   │  GVC  │  GVM  │ GVMW  │  GW   │  GZ   │  HAD  │  HB   │ HBZM  │  HD   │  HDB  │  HDE  │  HDG  │  HDR  │ HDRZ  │  HFD  │  HGL  │ HGLG  │ HGLO  │  HGV  │  HGZ  │  HIL  │  HK   │  HKS  │  HLG  │ HLGH  │  HLM  │ HLMS  │  HLO  │  HM   │ HMBH  │ HMBV  │  HMH  │  HMN  │  HN   │  HNK  │  HNO  │  HNP  │  HON  │  HOR  │  HR   │  HRL  │ HRLW  │  HRN  │  HRT  │  HRY  │  HT   │  HTN  │ HTNC  │  HTO  │  HVL  │  HVS  │ HVSM  │ HVSP  │  HWD  │ HWZB  │  HZE  │  IJT  │  KBD  │  KBK  │  KLP  │  KMA  │  KMR  │  KMW  │  KPN  │ KPNZ  │  KRD  │  KRG  │  KTR  │  KW   │  KZ   │  LAA  │  LC   │  LDL  │  LDM  │ LEDN  │ LEER  │  LG   │  LLS  │ LLZM  │  LP   │  LTN  │  LTV  │  LUT  │  LW   │  LWC  │  MAS  │  MDB  │  MES  │  MG   │ MMLH  │  MP   │  MRB  │  MRN  │  MT   │  MTH  │  MTN  │  MTR  │  MZ   │  NA   │  NDB  │  NH   │  NKK  │  NM   │  NMD  │ NMGO  │  NMH  │  NML  │  NS   │ NSCH  │  NVD  │  NVP  │  NWK  │   O   │  OBD  │  ODB  │  ODZ  │  OMN  │  OP   │  OST  │  OT   │  OTB  │  OVN  │  OW   │  PMO  │  PMR  │  PMW  │  PT   │  RAI  │  RAT  │  RB   │  RD   │  RH   │  RHN  │  RL   │  RLB  │  RM   │  RS   │  RSD  │  RSN  │  RSW  │  RTA  │  RTB  │  RTD  │  RTN  │ RTST  │  RTZ  │  RV   │  RVS  │  SBK  │  SD   │  SDA  │  SDM  │  SDT  │ SDTB  │  SGL  │  SGN  │  SHL  │  SK   │ SKND  │  SM   │  SN   │  SOG  │ SPTN  │ SPTZ  │  SRN  │  SSH  │  ST   │  STD  │  STM  │  STV  │  STZ  │  SWD  │  SWK  │  TB   │  TBG  │  TBR  │  TBU  │  TG   │  TL   │ TPSW  │  TWL  │  UHM  │  UHZ  │  UST  │  UT   │  UTG  │ UTLN  │ UTLR  │  UTM  │  UTO  │  UTT  │ UTVR  │ UTZL  │  VB   │  VD   │  VDL  │  VDM  │  VEM  │  VG   │  VH   │  VHP  │  VK   │  VL   │  VLB  │ VNDC  │ VNDW  │  VP   │  VRY  │  VS   │  VSS  │  VST  │  VSV  │  VTN  │  VZ   │  WAD  │ WADN  │ WADT  │  WC   │  WD   │  WDN  │  WF   │  WFM  │  WH   │  WK   │  WL   │  WM   │  WP   │  WR   │  WS   │  WSM  │  WT   │  WTV  │  WV   │  WW   │  WWW  │  WZ   │  YPB  │  ZA   │  ZB   │  ZBM  │  ZD   │  ZDK  │  ZH   │  ZL   │ ZLSH  │  ZLW  │  ZP   │  ZTM  │ ZTMO  │  ZV   │  ZVB  │  ZVT  │  ZWD  │  ZZS  │\n",
      "│ varchar │ int64 │ int64 │ int64 │ int64 │ int64 │ int64 │ int64 │ int64 │ int64 │ int64 │ int64 │ int64 │ int64 │ int64 │ int64 │ int64 │ int64 │ int64 │ int64 │ int64 │ int64 │ int64 │ int64 │ int64 │ int64 │ int64 │ int64 │ int64 │ int64 │ int64 │ int64 │ int64 │ int64 │ int64 │ int64 │ int64 │ int64 │ int64 │ int64 │ int64 │ int64 │ int64 │ int64 │ int64 │ int64 │ int64 │ int64 │ int64 │ int64 │ int64 │ int64 │ int64 │ int64 │ int64 │ int64 │ int64 │ int64 │ int64 │ int64 │ int64 │ int64 │ int64 │ int64 │ int64 │ int64 │ int64 │ int64 │ int64 │ int64 │ int64 │ int64 │ int64 │ int64 │ int64 │ int64 │ int64 │ int64 │ int64 │ int64 │ int64 │ int64 │ int64 │ int64 │ int64 │ int64 │ int64 │ int64 │ int64 │ int64 │ int64 │ int64 │ int64 │ int64 │ int64 │ int64 │ int64 │ int64 │ int64 │ int64 │ int64 │ int64 │ int64 │ int64 │ int64 │ int64 │ int64 │ int64 │ int64 │ int64 │ int64 │ int64 │ int64 │ int64 │ int64 │ int64 │ int64 │ int64 │ int64 │ int64 │ int64 │ int64 │ int64 │ int64 │ int64 │ int64 │ int64 │ int64 │ int64 │ int64 │ int64 │ int64 │ int64 │ int64 │ int64 │ int64 │ int64 │ int64 │ int64 │ int64 │ int64 │ int64 │ int64 │ int64 │ int64 │ int64 │ int64 │ int64 │ int64 │ int64 │ int64 │ int64 │ int64 │ int64 │ int64 │ int64 │ int64 │ int64 │ int64 │ int64 │ int64 │ int64 │ int64 │ int64 │ int64 │ int64 │ int64 │ int64 │ int64 │ int64 │ int64 │ int64 │ int64 │ int64 │ int64 │ int64 │ int64 │ int64 │ int64 │ int64 │ int64 │ int64 │ int64 │ int64 │ int64 │ int64 │ int64 │ int64 │ int64 │ int64 │ int64 │ int64 │ int64 │ int64 │ int64 │ int64 │ int64 │ int64 │ int64 │ int64 │ int64 │ int64 │ int64 │ int64 │ int64 │ int64 │ int64 │ int64 │ int64 │ int64 │ int64 │ int64 │ int64 │ int64 │ int64 │ int64 │ int64 │ int64 │ int64 │ int64 │ int64 │ int64 │ int64 │ int64 │ int64 │ int64 │ int64 │ int64 │ int64 │ int64 │ int64 │ int64 │ int64 │ int64 │ int64 │ int64 │ int64 │ int64 │ int64 │ int64 │ int64 │ int64 │ int64 │ int64 │ int64 │ int64 │ int64 │ int64 │ int64 │ int64 │ int64 │ int64 │ int64 │ int64 │ int64 │ int64 │ int64 │ int64 │ int64 │ int64 │ int64 │ int64 │ int64 │ int64 │ int64 │ int64 │ int64 │ int64 │ int64 │ int64 │ int64 │ int64 │ int64 │ int64 │ int64 │ int64 │ int64 │ int64 │ int64 │ int64 │ int64 │ int64 │ int64 │ int64 │ int64 │ int64 │ int64 │ int64 │ int64 │ int64 │ int64 │ int64 │ int64 │ int64 │ int64 │ int64 │ int64 │ int64 │ int64 │ int64 │ int64 │ int64 │ int64 │ int64 │ int64 │ int64 │ int64 │ int64 │ int64 │ int64 │ int64 │ int64 │ int64 │ int64 │ int64 │ int64 │ int64 │ int64 │ int64 │ int64 │ int64 │ int64 │ int64 │ int64 │ int64 │ int64 │ int64 │ int64 │ int64 │ int64 │ int64 │ int64 │ int64 │ int64 │ int64 │ int64 │ int64 │ int64 │ int64 │ int64 │ int64 │ int64 │ int64 │ int64 │ int64 │ int64 │ int64 │ int64 │ int64 │ int64 │ int64 │ int64 │ int64 │ int64 │ int64 │ int64 │ int64 │ int64 │ int64 │ int64 │ int64 │ int64 │ int64 │ int64 │ int64 │ int64 │ int64 │ int64 │ int64 │ int64 │ int64 │ int64 │ int64 │ int64 │ int64 │ int64 │ int64 │ int64 │ int64 │ int64 │ int64 │ int64 │ int64 │ int64 │ int64 │ int64 │ int64 │ int64 │ int64 │ int64 │ int64 │ int64 │ int64 │ int64 │ int64 │ int64 │ int64 │ int64 │ int64 │ int64 │\n",
      "├─────────┼───────┼───────┼───────┼───────┼───────┼───────┼───────┼───────┼───────┼───────┼───────┼───────┼───────┼───────┼───────┼───────┼───────┼───────┼───────┼───────┼───────┼───────┼───────┼───────┼───────┼───────┼───────┼───────┼───────┼───────┼───────┼───────┼───────┼───────┼───────┼───────┼───────┼───────┼───────┼───────┼───────┼───────┼───────┼───────┼───────┼───────┼───────┼───────┼───────┼───────┼───────┼───────┼───────┼───────┼───────┼───────┼───────┼───────┼───────┼───────┼───────┼───────┼───────┼───────┼───────┼───────┼───────┼───────┼───────┼───────┼───────┼───────┼───────┼───────┼───────┼───────┼───────┼───────┼───────┼───────┼───────┼───────┼───────┼───────┼───────┼───────┼───────┼───────┼───────┼───────┼───────┼───────┼───────┼───────┼───────┼───────┼───────┼───────┼───────┼───────┼───────┼───────┼───────┼───────┼───────┼───────┼───────┼───────┼───────┼───────┼───────┼───────┼───────┼───────┼───────┼───────┼───────┼───────┼───────┼───────┼───────┼───────┼───────┼───────┼───────┼───────┼───────┼───────┼───────┼───────┼───────┼───────┼───────┼───────┼───────┼───────┼───────┼───────┼───────┼───────┼───────┼───────┼───────┼───────┼───────┼───────┼───────┼───────┼───────┼───────┼───────┼───────┼───────┼───────┼───────┼───────┼───────┼───────┼───────┼───────┼───────┼───────┼───────┼───────┼───────┼───────┼───────┼───────┼───────┼───────┼───────┼───────┼───────┼───────┼───────┼───────┼───────┼───────┼───────┼───────┼───────┼───────┼───────┼───────┼───────┼───────┼───────┼───────┼───────┼───────┼───────┼───────┼───────┼───────┼───────┼───────┼───────┼───────┼───────┼───────┼───────┼───────┼───────┼───────┼───────┼───────┼───────┼───────┼───────┼───────┼───────┼───────┼───────┼───────┼───────┼───────┼───────┼───────┼───────┼───────┼───────┼───────┼───────┼───────┼───────┼───────┼───────┼───────┼───────┼───────┼───────┼───────┼───────┼───────┼───────┼───────┼───────┼───────┼───────┼───────┼───────┼───────┼───────┼───────┼───────┼───────┼───────┼───────┼───────┼───────┼───────┼───────┼───────┼───────┼───────┼───────┼───────┼───────┼───────┼───────┼───────┼───────┼───────┼───────┼───────┼───────┼───────┼───────┼───────┼───────┼───────┼───────┼───────┼───────┼───────┼───────┼───────┼───────┼───────┼───────┼───────┼───────┼───────┼───────┼───────┼───────┼───────┼───────┼───────┼───────┼───────┼───────┼───────┼───────┼───────┼───────┼───────┼───────┼───────┼───────┼───────┼───────┼───────┼───────┼───────┼───────┼───────┼───────┼───────┼───────┼───────┼───────┼───────┼───────┼───────┼───────┼───────┼───────┼───────┼───────┼───────┼───────┼───────┼───────┼───────┼───────┼───────┼───────┼───────┼───────┼───────┼───────┼───────┼───────┼───────┼───────┼───────┼───────┼───────┼───────┼───────┼───────┼───────┼───────┼───────┼───────┼───────┼───────┼───────┼───────┼───────┼───────┼───────┼───────┼───────┼───────┼───────┼───────┼───────┼───────┼───────┼───────┼───────┼───────┼───────┼───────┼───────┼───────┼───────┼───────┼───────┼───────┼───────┼───────┼───────┼───────┼───────┼───────┼───────┼───────┼───────┼───────┼───────┼───────┼───────┼───────┼───────┼───────┼───────┼───────┼───────┼───────┼───────┼───────┼───────┼───────┼───────┼───────┼───────┤\n",
      "│ AC      │  NULL │    82 │    83 │    85 │    90 │    71 │   188 │    32 │    38 │    31 │    40 │    34 │    45 │    48 │   142 │    29 │    54 │   144 │    55 │    84 │    88 │    89 │    91 │   251 │    50 │   194 │     9 │     5 │    15 │    22 │    11 │    11 │     4 │   189 │    19 │    12 │   134 │    51 │   115 │   141 │    42 │   232 │   116 │    94 │   236 │   142 │    82 │    33 │   136 │    73 │    72 │    12 │   173 │    37 │   104 │   126 │   151 │    64 │    32 │    61 │    66 │   230 │   154 │    82 │    38 │    57 │    56 │    57 │    26 │    84 │    44 │   174 │    42 │   116 │    42 │   166 │    60 │   109 │   153 │    36 │   146 │    91 │    94 │    92 │   210 │   101 │   123 │    36 │   170 │    14 │     9 │   126 │    98 │    42 │    81 │   217 │    75 │   112 │   110 │    76 │   103 │   107 │     7 │    91 │    54 │   223 │   255 │   254 │   140 │    65 │    67 │   144 │   262 │   108 │   103 │   103 │   104 │    76 │    68 │   186 │   182 │   159 │   165 │   155 │    93 │   126 │   223 │   220 │   159 │   168 │    47 │    44 │    50 │   117 │   215 │   236 │   124 │   217 │    85 │   221 │   136 │   110 │    76 │   179 │    67 │    66 │    62 │    68 │   193 │   105 │    38 │   113 │    88 │    72 │   153 │    93 │   216 │    96 │    95 │    27 │   151 │   149 │   153 │   159 │   228 │    45 │    41 │    68 │   232 │   233 │    34 │    33 │    49 │   117 │   118 │   114 │   116 │    81 │    58 │    59 │   123 │   248 │   122 │    36 │   177 │   109 │   111 │   211 │   144 │   176 │    72 │    32 │    33 │    73 │    51 │    31 │    30 │    32 │    61 │    26 │   115 │   231 │   161 │    97 │    58 │    33 │   117 │   253 │   126 │    98 │   111 │   168 │    74 │   225 │    27 │    65 │   123 │    52 │    64 │    51 │   286 │   106 │    56 │    60 │   243 │    71 │   141 │   132 │   206 │   209 │    17 │   198 │   129 │   216 │   111 │   139 │   145 │    44 │   135 │   226 │   132 │   136 │   125 │   177 │    25 │   116 │    56 │   101 │   106 │   104 │   104 │   100 │    84 │   261 │   143 │    32 │    56 │    91 │    67 │   122 │   162 │   134 │    78 │   113 │    93 │    78 │    36 │    90 │    40 │    39 │    38 │    63 │    10 │   129 │   158 │   255 │    92 │    67 │   128 │    78 │   153 │    79 │   129 │   129 │    70 │    61 │    72 │    71 │    66 │    76 │    75 │   164 │    99 │   121 │    42 │   244 │    75 │    89 │    92 │   125 │    75 │    22 │   228 │   227 │   158 │   119 │   119 │    41 │    39 │   135 │    43 │    43 │   128 │   239 │   257 │    42 │   228 │   153 │    94 │   118 │    99 │    95 │   161 │    62 │    60 │    98 │   252 │   249 │   244 │    24 │    38 │    28 │    27 │    32 │    27 │    29 │    25 │    22 │    69 │   118 │   113 │   244 │   102 │    76 │    55 │   151 │   122 │   156 │   133 │    59 │    58 │    88 │   140 │   204 │   203 │    56 │   125 │    31 │   148 │    55 │    56 │    54 │   106 │    31 │   137 │    74 │   241 │   120 │   244 │   107 │    31 │    16 │   271 │   249 │   233 │   132 │    87 │   166 │   146 │   147 │   102 │    68 │    84 │   236 │    59 │    25 │    28 │   229 │   111 │   116 │   106 │   106 │    63 │    62 │    96 │   114 │    42 │    89 │    28 │\n",
      "│ AH      │    82 │  NULL │     1 │     3 │     8 │    77 │   153 │    98 │   104 │    97 │   106 │   100 │    51 │    54 │    84 │    95 │   135 │    86 │   136 │   165 │    47 │    46 │    50 │   216 │    93 │   194 │    91 │    87 │    96 │   103 │    92 │    93 │    86 │   154 │   100 │    91 │    52 │    57 │   105 │    59 │    85 │   197 │   110 │    84 │   201 │   142 │    88 │    63 │    54 │   154 │   153 │    70 │   138 │   118 │    22 │    44 │    79 │    32 │    50 │    35 │    30 │   195 │    79 │   114 │    60 │    63 │    99 │   100 │    72 │    74 │   125 │   174 │   123 │    34 │    64 │   124 │   103 │    27 │    95 │    46 │    69 │   105 │   102 │   106 │   175 │    19 │    88 │    60 │   128 │    89 │    89 │   107 │    16 │   123 │   108 │   182 │   127 │    30 │    28 │   127 │    45 │    49 │    89 │     9 │   111 │   188 │   220 │   219 │    58 │    17 │    19 │    62 │   227 │    26 │    21 │    93 │    94 │   157 │    74 │   144 │   140 │    82 │    88 │    78 │    11 │   116 │   188 │   185 │   117 │    91 │    90 │    87 │    56 │    35 │   180 │   201 │    42 │   182 │    91 │   186 │    59 │   100 │    82 │   179 │   119 │   118 │   119 │   120 │   158 │    95 │   119 │    31 │    94 │    78 │   111 │    94 │   181 │   177 │   176 │   109 │    74 │    72 │    76 │   124 │   193 │   126 │   122 │   149 │   197 │   198 │   115 │   114 │   130 │   107 │   108 │   104 │   106 │    25 │   139 │   140 │    88 │   213 │    64 │    70 │   142 │    27 │    29 │   176 │    89 │   141 │    62 │    64 │    65 │    61 │    45 │    67 │    68 │    68 │   142 │   107 │   105 │   196 │   161 │    38 │    24 │   114 │    35 │   218 │    91 │    91 │    29 │   168 │    32 │   190 │   108 │   119 │    46 │   107 │    70 │   108 │   251 │    24 │   122 │   103 │   208 │    25 │    64 │    50 │   171 │   174 │    65 │   198 │    47 │   181 │    29 │   104 │   103 │    38 │    53 │   191 │    50 │    54 │   102 │   135 │    73 │    34 │    62 │    19 │    24 │    22 │    22 │    18 │    90 │   226 │    87 │   114 │    99 │    43 │   148 │   136 │    85 │    99 │    28 │    55 │    83 │     4 │   117 │    44 │   121 │   120 │   119 │    69 │    92 │    94 │   158 │   220 │    10 │    61 │    51 │   118 │    71 │    55 │   129 │    71 │   122 │   104 │   115 │   114 │   109 │   119 │   118 │    82 │    35 │    39 │    64 │   209 │   118 │    95 │    98 │    43 │   156 │   104 │   193 │   192 │    76 │    37 │    37 │   122 │   120 │    53 │   116 │    65 │    46 │   204 │   222 │    66 │   193 │   118 │    84 │    36 │    89 │    85 │    86 │    44 │    46 │    50 │   217 │   214 │   209 │    58 │   119 │    60 │    61 │    66 │    61 │    63 │    57 │    60 │   115 │    41 │    31 │   209 │    33 │    66 │   116 │    97 │    40 │    81 │    51 │    53 │    52 │     6 │    58 │   204 │   203 │   113 │    43 │    65 │    90 │    98 │    99 │    97 │    28 │    74 │    79 │     8 │   206 │    62 │   209 │    25 │   112 │    82 │   236 │   214 │   198 │    95 │     5 │   131 │    64 │    65 │    85 │   111 │    22 │   201 │    65 │   106 │   109 │   194 │    76 │    81 │   120 │    29 │   106 │   105 │    14 │   128 │   123 │   107 │   109 │\n",
      "│ AHP     │    83 │     1 │  NULL │     2 │     9 │    78 │   152 │    99 │   105 │    98 │   107 │   101 │    52 │    55 │    83 │    96 │   136 │    85 │   137 │   166 │    46 │    45 │    49 │   215 │    94 │   195 │    92 │    88 │    97 │   104 │    93 │    94 │    87 │   153 │   101 │    92 │    51 │    58 │   106 │    58 │    86 │   196 │   111 │    85 │   200 │   143 │    89 │    64 │    53 │   155 │   154 │    71 │   137 │   119 │    21 │    45 │    78 │    33 │    51 │    36 │    31 │   194 │    80 │   115 │    61 │    64 │   100 │   101 │    73 │    75 │   126 │   175 │   124 │    35 │    65 │   123 │   104 │    26 │    94 │    47 │    68 │   106 │   103 │   107 │   174 │    18 │    87 │    61 │   127 │    90 │    90 │   108 │    15 │   124 │   107 │   181 │   128 │    29 │    27 │   128 │    44 │    48 │    90 │     8 │   112 │   187 │   219 │   218 │    57 │    18 │    20 │    61 │   226 │    25 │    20 │    94 │    95 │   158 │    75 │   143 │   139 │    81 │    87 │    77 │    12 │   117 │   187 │   184 │   116 │    90 │    91 │    88 │    57 │    34 │   179 │   200 │    41 │   181 │    92 │   185 │    58 │   101 │    83 │   180 │   120 │   119 │   120 │   121 │   157 │    96 │   120 │    30 │    95 │    79 │   110 │    93 │   180 │   178 │   177 │   110 │    73 │    71 │    75 │   123 │   192 │   127 │   123 │   150 │   196 │   197 │   116 │   115 │   131 │   108 │   109 │   105 │   107 │    26 │   140 │   141 │    87 │   212 │    63 │    71 │   141 │    26 │    28 │   175 │    90 │   140 │    63 │    65 │    66 │    62 │    46 │    68 │    69 │    69 │   143 │   108 │   106 │   195 │   162 │    37 │    25 │   115 │    34 │   217 │    90 │    90 │    28 │   169 │    33 │   189 │   109 │   120 │    45 │   108 │    71 │   109 │   250 │    23 │   123 │   104 │   207 │    26 │    63 │    49 │   170 │   173 │    66 │   199 │    46 │   180 │    30 │   103 │   102 │    39 │    52 │   190 │    49 │    53 │   101 │   134 │    74 │    33 │    63 │    20 │    25 │    23 │    23 │    19 │    91 │   225 │    86 │   115 │   100 │    44 │   149 │   137 │    84 │    98 │    29 │    54 │    84 │     5 │   118 │    45 │   122 │   121 │   120 │    70 │    93 │    93 │   159 │   219 │     9 │    62 │    50 │   119 │    70 │    56 │   130 │    70 │   123 │   105 │   116 │   115 │   110 │   120 │   119 │    81 │    36 │    38 │    65 │   208 │   119 │    96 │    99 │    42 │   157 │   105 │   192 │   191 │    75 │    36 │    36 │   123 │   121 │    52 │   117 │    66 │    45 │   203 │   221 │    67 │   192 │   117 │    85 │    35 │    90 │    86 │    87 │    45 │    47 │    49 │   216 │   213 │   208 │    59 │   120 │    61 │    62 │    67 │    62 │    64 │    58 │    61 │   116 │    40 │    30 │   208 │    32 │    67 │   117 │    96 │    39 │    82 │    52 │    54 │    53 │     5 │    59 │   205 │   204 │   114 │    42 │    66 │    89 │    99 │   100 │    98 │    29 │    75 │    78 │     9 │   205 │    61 │   208 │    24 │   113 │    83 │   235 │   213 │   197 │    94 │     4 │   130 │    63 │    64 │    84 │   112 │    23 │   200 │    66 │   107 │   110 │   193 │    75 │    80 │   121 │    28 │   107 │   106 │    13 │   129 │   124 │   108 │   110 │\n",
      "│ AHPR    │    85 │     3 │     2 │  NULL │    11 │    80 │   150 │   101 │   107 │   100 │   109 │   103 │    54 │    57 │    81 │    98 │   138 │    83 │   139 │   168 │    44 │    43 │    47 │   213 │    96 │   197 │    94 │    90 │    99 │   106 │    95 │    96 │    89 │   151 │   103 │    94 │    53 │    60 │   108 │    60 │    88 │   194 │   113 │    87 │   198 │   145 │    91 │    66 │    55 │   157 │   156 │    73 │   135 │   121 │    19 │    47 │    76 │    35 │    53 │    38 │    33 │   192 │    82 │   117 │    63 │    66 │   102 │   103 │    75 │    77 │   128 │   177 │   126 │    37 │    67 │   121 │   106 │    28 │    92 │    49 │    66 │   108 │   105 │   109 │   172 │    20 │    85 │    63 │   125 │    92 │    92 │   110 │    13 │   126 │   105 │   179 │   130 │    31 │    29 │   130 │    42 │    46 │    92 │    10 │   114 │   185 │   217 │   216 │    59 │    20 │    22 │    63 │   224 │    27 │    22 │    96 │    97 │   160 │    77 │   141 │   137 │    79 │    85 │    75 │    14 │   119 │   185 │   182 │   114 │    88 │    93 │    90 │    59 │    36 │   177 │   198 │    43 │   179 │    94 │   183 │    56 │   103 │    85 │   182 │   122 │   121 │   122 │   123 │   155 │    98 │   122 │    32 │    97 │    81 │   108 │    91 │   178 │   180 │   179 │   112 │    71 │    69 │    73 │   121 │   190 │   129 │   125 │   152 │   194 │   195 │   118 │   117 │   133 │   110 │   111 │   107 │   109 │    28 │   142 │   143 │    85 │   210 │    61 │    73 │   139 │    28 │    30 │   173 │    92 │   138 │    65 │    67 │    68 │    64 │    48 │    70 │    71 │    71 │   145 │   110 │   108 │   193 │   164 │    35 │    27 │   117 │    36 │   215 │    88 │    88 │    30 │   171 │    35 │   187 │   111 │   122 │    43 │   110 │    73 │   111 │   248 │    25 │   125 │   106 │   205 │    28 │    61 │    51 │   168 │   171 │    68 │   201 │    48 │   178 │    32 │   101 │   100 │    41 │    54 │   188 │    51 │    55 │   103 │   132 │    76 │    35 │    65 │    22 │    27 │    25 │    25 │    21 │    93 │   223 │    84 │   117 │   102 │    46 │   151 │   139 │    82 │    96 │    31 │    52 │    86 │     7 │   120 │    47 │   124 │   123 │   122 │    72 │    95 │    91 │   161 │   217 │     7 │    64 │    48 │   121 │    72 │    58 │   132 │    68 │   125 │   107 │   118 │   117 │   112 │   122 │   121 │    83 │    38 │    40 │    67 │   206 │   121 │    98 │   101 │    44 │   159 │   107 │   190 │   189 │    77 │    38 │    38 │   125 │   123 │    54 │   119 │    68 │    47 │   201 │   219 │    69 │   190 │   115 │    87 │    37 │    92 │    88 │    89 │    47 │    49 │    47 │   214 │   211 │   206 │    61 │   122 │    63 │    64 │    69 │    64 │    66 │    60 │    63 │   118 │    38 │    32 │   206 │    30 │    69 │   119 │    94 │    41 │    84 │    54 │    56 │    55 │     3 │    61 │   207 │   206 │   116 │    44 │    68 │    87 │   101 │   102 │   100 │    31 │    77 │    76 │    11 │   203 │    59 │   206 │    26 │   115 │    85 │   233 │   211 │   195 │    96 │     6 │   128 │    65 │    66 │    82 │   114 │    25 │   198 │    68 │   109 │   112 │   191 │    73 │    78 │   123 │    26 │   109 │   108 │    15 │   131 │   126 │   110 │   112 │\n",
      "│ AHZ     │    90 │     8 │     9 │    11 │  NULL │    69 │   161 │   106 │   112 │   105 │   114 │   108 │    59 │    62 │    92 │   103 │   143 │    94 │   144 │   173 │    55 │    54 │    58 │   224 │   101 │   186 │    99 │    95 │   104 │   111 │   100 │   101 │    94 │   162 │   108 │    99 │    60 │    65 │    97 │    67 │    93 │   205 │   102 │    76 │   209 │   134 │    80 │    71 │    62 │   162 │   161 │    78 │   146 │   126 │    30 │    36 │    87 │    40 │    58 │    43 │    38 │   203 │    71 │   106 │    68 │    55 │   107 │   108 │    80 │    66 │   133 │   166 │   131 │    26 │    56 │   132 │   111 │    35 │   103 │    54 │    77 │    97 │    94 │    98 │   183 │    27 │    96 │    68 │   136 │    97 │    97 │    99 │    24 │   131 │   116 │   190 │   131 │    38 │    36 │   130 │    53 │    57 │    97 │    17 │   119 │   196 │   228 │   227 │    66 │    25 │    27 │    70 │   235 │    34 │    29 │    85 │    86 │   165 │    82 │   152 │   148 │    90 │    96 │    86 │     3 │   108 │   196 │   193 │   125 │    99 │    98 │    95 │    48 │    43 │   188 │   209 │    50 │   190 │    83 │   194 │    67 │    92 │    74 │   171 │   127 │   126 │   127 │   128 │   166 │    87 │   127 │    39 │    86 │    86 │   119 │   102 │   189 │   185 │   184 │   117 │    82 │    80 │    84 │   132 │   201 │   134 │   130 │   157 │   205 │   206 │   123 │   122 │   138 │    99 │   100 │    96 │    98 │    17 │   147 │   148 │    96 │   221 │    72 │    78 │   150 │    35 │    37 │   184 │    81 │   149 │    54 │    66 │    65 │    53 │    53 │    75 │    76 │    76 │   150 │   115 │    97 │   204 │   153 │    46 │    32 │   122 │    43 │   226 │    99 │    99 │    37 │   160 │    24 │   198 │   116 │   127 │    54 │   115 │    62 │   116 │   259 │    32 │   130 │   111 │   216 │    33 │    72 │    58 │   179 │   182 │    73 │   190 │    55 │   189 │    21 │   112 │   111 │    46 │    61 │   199 │    58 │    62 │   107 │   143 │    81 │    42 │    70 │    11 │    16 │    14 │    14 │    10 │    98 │   234 │    95 │   122 │   107 │    35 │   156 │   128 │    93 │   107 │    20 │    63 │    75 │    12 │   125 │    36 │   129 │   128 │   127 │    77 │   100 │   102 │   150 │   228 │    18 │    69 │    59 │   110 │    79 │    47 │   121 │    79 │   130 │   112 │   116 │   117 │   117 │   112 │   113 │    85 │    27 │    47 │    72 │   217 │   121 │    87 │    90 │    51 │   164 │   112 │   201 │   200 │    84 │    45 │    45 │   130 │   128 │    61 │   124 │    73 │    54 │   212 │   230 │    74 │   201 │   126 │    76 │    44 │    81 │    77 │    78 │    36 │    38 │    58 │   225 │   222 │   217 │    66 │   127 │    68 │    69 │    74 │    69 │    71 │    65 │    68 │   123 │    49 │    39 │   217 │    41 │    58 │   124 │   105 │    48 │    73 │    43 │    61 │    60 │    14 │    50 │   196 │   195 │   121 │    51 │    73 │    98 │   106 │   107 │   105 │    20 │    82 │    87 │    16 │   214 │    70 │   217 │    33 │   120 │    90 │   244 │   222 │   206 │   103 │    13 │   139 │    72 │    73 │    93 │   119 │    14 │   209 │    57 │   114 │   117 │   202 │    84 │    89 │   112 │    37 │   114 │   113 │    22 │   120 │   131 │    99 │   117 │\n",
      "└─────────┴───────┴───────┴───────┴───────┴───────┴───────┴───────┴───────┴───────┴───────┴───────┴───────┴───────┴───────┴───────┴───────┴───────┴───────┴───────┴───────┴───────┴───────┴───────┴───────┴───────┴───────┴───────┴───────┴───────┴───────┴───────┴───────┴───────┴───────┴───────┴───────┴───────┴───────┴───────┴───────┴───────┴───────┴───────┴───────┴───────┴───────┴───────┴───────┴───────┴───────┴───────┴───────┴───────┴───────┴───────┴───────┴───────┴───────┴───────┴───────┴───────┴───────┴───────┴───────┴───────┴───────┴───────┴───────┴───────┴───────┴───────┴───────┴───────┴───────┴───────┴───────┴───────┴───────┴───────┴───────┴───────┴───────┴───────┴───────┴───────┴───────┴───────┴───────┴───────┴───────┴───────┴───────┴───────┴───────┴───────┴───────┴───────┴───────┴───────┴───────┴───────┴───────┴───────┴───────┴───────┴───────┴───────┴───────┴───────┴───────┴───────┴───────┴───────┴───────┴───────┴───────┴───────┴───────┴───────┴───────┴───────┴───────┴───────┴───────┴───────┴───────┴───────┴───────┴───────┴───────┴───────┴───────┴───────┴───────┴───────┴───────┴───────┴───────┴───────┴───────┴───────┴───────┴───────┴───────┴───────┴───────┴───────┴───────┴───────┴───────┴───────┴───────┴───────┴───────┴───────┴───────┴───────┴───────┴───────┴───────┴───────┴───────┴───────┴───────┴───────┴───────┴───────┴───────┴───────┴───────┴───────┴───────┴───────┴───────┴───────┴───────┴───────┴───────┴───────┴───────┴───────┴───────┴───────┴───────┴───────┴───────┴───────┴───────┴───────┴───────┴───────┴───────┴───────┴───────┴───────┴───────┴───────┴───────┴───────┴───────┴───────┴───────┴───────┴───────┴───────┴───────┴───────┴───────┴───────┴───────┴───────┴───────┴───────┴───────┴───────┴───────┴───────┴───────┴───────┴───────┴───────┴───────┴───────┴───────┴───────┴───────┴───────┴───────┴───────┴───────┴───────┴───────┴───────┴───────┴───────┴───────┴───────┴───────┴───────┴───────┴───────┴───────┴───────┴───────┴───────┴───────┴───────┴───────┴───────┴───────┴───────┴───────┴───────┴───────┴───────┴───────┴───────┴───────┴───────┴───────┴───────┴───────┴───────┴───────┴───────┴───────┴───────┴───────┴───────┴───────┴───────┴───────┴───────┴───────┴───────┴───────┴───────┴───────┴───────┴───────┴───────┴───────┴───────┴───────┴───────┴───────┴───────┴───────┴───────┴───────┴───────┴───────┴───────┴───────┴───────┴───────┴───────┴───────┴───────┴───────┴───────┴───────┴───────┴───────┴───────┴───────┴───────┴───────┴───────┴───────┴───────┴───────┴───────┴───────┴───────┴───────┴───────┴───────┴───────┴───────┴───────┴───────┴───────┴───────┴───────┴───────┴───────┴───────┴───────┴───────┴───────┴───────┴───────┴───────┴───────┴───────┴───────┴───────┴───────┴───────┴───────┴───────┴───────┴───────┴───────┴───────┴───────┴───────┴───────┴───────┴───────┴───────┴───────┴───────┴───────┴───────┴───────┴───────┴───────┴───────┴───────┴───────┴───────┴───────┴───────┴───────┴───────┴───────┴───────┴───────┴───────┴───────┴───────┴───────┴───────┴───────┴───────┴───────┴───────┴───────┴───────┴───────┴───────┴───────┴───────┴───────┴───────┴───────┴───────┴───────┴───────┴───────┴───────┴───────┴───────┴───────┴───────┴───────┴───────┘\n",
      "\n"
     ]
    }
   ],
   "source": [
    "db.sql(\"SELECT * FROM distances LIMIT 5\").show()"
   ]
  },
  {
   "cell_type": "code",
   "execution_count": 15,
   "id": "37492de2",
   "metadata": {},
   "outputs": [],
   "source": [
    "db.sql(\"\"\"\n",
    "CREATE TABLE distances_long AS\n",
    "    UNPIVOT distances\n",
    "    ON COLUMNS (* EXCLUDE station)\n",
    "    INTO NAME other_station VALUE distance;\n",
    "\"\"\")"
   ]
  },
  {
   "cell_type": "code",
   "execution_count": 17,
   "id": "090ec5e2",
   "metadata": {},
   "outputs": [
    {
     "name": "stdout",
     "output_type": "stream",
     "text": [
      "┌─────────┬───────────────┬──────────┐\n",
      "│ Station │ other_station │ distance │\n",
      "│ varchar │    varchar    │  int64   │\n",
      "├─────────┼───────────────┼──────────┤\n",
      "│ AC      │ AH            │       82 │\n",
      "│ AC      │ AHP           │       83 │\n",
      "│ AC      │ AHPR          │       85 │\n",
      "│ AC      │ AHZ           │       90 │\n",
      "│ AC      │ AKL           │       71 │\n",
      "└─────────┴───────────────┴──────────┘\n",
      "\n"
     ]
    }
   ],
   "source": [
    "db.sql(\"SELECT * FROM distances_long LIMIT 5\").show()"
   ]
  },
  {
   "cell_type": "markdown",
   "id": "11562b1d",
   "metadata": {},
   "source": [
    "## 4. disruptions table "
   ]
  },
  {
   "cell_type": "code",
   "execution_count": 18,
   "id": "2dc6344e",
   "metadata": {},
   "outputs": [],
   "source": [
    "db.sql(\"\"\"\n",
    "       CREATE TABLE disruptions AS\n",
    "       SELECT *\n",
    "       FROM read_csv('data_homework/disruptions/*.csv');\n",
    "\"\"\")"
   ]
  },
  {
   "cell_type": "code",
   "execution_count": 19,
   "id": "a952ed19",
   "metadata": {},
   "outputs": [
    {
     "name": "stdout",
     "output_type": "stream",
     "text": [
      "┌────────┬──────────────────────────────────┬────────────────────────────────────┬──────────────┬───────────────────┬───────────────────┬────────────────────────────┬───────────────────────┬────────────────────────────┬───────────────────────┬───────────────┬─────────────────────┬─────────────────────┬──────────────────┐\n",
      "│ rdt_id │             ns_lines             │             rdt_lines              │ rdt_lines_id │ rdt_station_names │ rdt_station_codes │          cause_nl          │       cause_en        │    statistical_cause_nl    │ statistical_cause_en  │  cause_group  │     start_time      │      end_time       │ duration_minutes │\n",
      "│ int64  │             varchar              │              varchar               │   varchar    │      varchar      │      varchar      │          varchar           │        varchar        │          varchar           │        varchar        │    varchar    │      timestamp      │      timestamp      │      int64       │\n",
      "├────────┼──────────────────────────────────┼────────────────────────────────────┼──────────────┼───────────────────┼───────────────────┼────────────────────────────┼───────────────────────┼────────────────────────────┼───────────────────────┼───────────────┼─────────────────────┼─────────────────────┼──────────────────┤\n",
      "│      1 │ Deventer-Amersfoort              │ Amersfoort - Apeldoorn             │ 50           │ NULL              │ NULL              │ inzet van de politie       │ police action         │ inzet van de politie       │ police action         │ external      │ 2011-01-03 23:22:50 │ 2011-01-04 01:35:03 │              132 │\n",
      "│      4 │ Ede-Wageningen-Amersfoort        │ Amersfoort - Ede-Wageningen        │ 47           │ NULL              │ NULL              │ inzet van de politie       │ police action         │ inzet van de politie       │ police action         │ external      │ 2011-01-04 00:23:13 │ 2011-01-04 01:35:03 │               72 │\n",
      "│      5 │ Roosendaal-Breda                 │ Breda - Roosendaal                 │ 20           │ NULL              │ NULL              │ koperdiefstal              │ copper theft          │ koperdiefstal              │ copper theft          │ external      │ 2011-01-04 06:30:02 │ 2011-01-04 10:05:01 │              215 │\n",
      "│      6 │ Eindhoven-Venlo                  │ Eindhoven - Venlo                  │ 65           │ NULL              │ NULL              │ aanrijding met een persoon │ person hit by a train │ aanrijding met een persoon │ person hit by a train │ accidents     │ 2011-01-04 07:30:03 │ 2011-01-04 11:00:08 │              210 │\n",
      "│      7 │ Utrecht Centraal-Leiden Centraal │ Leiden Centraal - Utrecht Centraal │ 147          │ NULL              │ NULL              │ defecte trein              │ broken down train     │ defecte trein              │ broken down train     │ rolling stock │ 2011-01-04 07:30:03 │ 2011-01-04 08:50:02 │               80 │\n",
      "└────────┴──────────────────────────────────┴────────────────────────────────────┴──────────────┴───────────────────┴───────────────────┴────────────────────────────┴───────────────────────┴────────────────────────────┴───────────────────────┴───────────────┴─────────────────────┴─────────────────────┴──────────────────┘\n",
      "\n"
     ]
    }
   ],
   "source": [
    "db.sql(\"SELECT * FROM disruptions LIMIT 5\").show()"
   ]
  },
  {
   "cell_type": "markdown",
   "id": "5ee1c299",
   "metadata": {},
   "source": [
    "## 5-6. File Parquet and create services"
   ]
  },
  {
   "cell_type": "code",
   "execution_count": 21,
   "id": "1d626e36",
   "metadata": {},
   "outputs": [
    {
     "data": {
      "application/vnd.jupyter.widget-view+json": {
       "model_id": "1653eec2cc3e41beade3d8b66e03ebca",
       "version_major": 2,
       "version_minor": 0
      },
      "text/plain": [
       "FloatProgress(value=0.0, layout=Layout(width='auto'), style=ProgressStyle(bar_color='black'))"
      ]
     },
     "metadata": {},
     "output_type": "display_data"
    }
   ],
   "source": [
    "db.sql(\"\"\"\n",
    "    COPY(\n",
    "       SELECT * \n",
    "       FROM read_csv_auto('data_homework/services-*.csv'))\n",
    "       TO './data_homework/services.parquet' (FORMAT PARQUET);\n",
    "\"\"\")"
   ]
  },
  {
   "cell_type": "code",
   "execution_count": 22,
   "id": "afa89495",
   "metadata": {},
   "outputs": [
    {
     "data": {
      "application/vnd.jupyter.widget-view+json": {
       "model_id": "b8107f15797f40febcf97438572bd48f",
       "version_major": 2,
       "version_minor": 0
      },
      "text/plain": [
       "FloatProgress(value=0.0, layout=Layout(width='auto'), style=ProgressStyle(bar_color='black'))"
      ]
     },
     "metadata": {},
     "output_type": "display_data"
    }
   ],
   "source": [
    "\n",
    "\n",
    "db.sql(\"\"\"\n",
    "       CREATE TABLE services AS\n",
    "       SELECT * \n",
    "       FROM read_parquet('./data_homework/services.parquet')\n",
    "\"\"\")\n",
    "\n"
   ]
  },
  {
   "cell_type": "code",
   "execution_count": 23,
   "id": "2481c299",
   "metadata": {},
   "outputs": [
    {
     "name": "stdout",
     "output_type": "stream",
     "text": [
      "┌────────────────┬──────────────┬──────────────┬─────────────────┬──────────────────────┬──────────────────────────────┬──────────────────────────┬───────────────────────┬─────────────┬───────────────────┬────────────────────┬─────────────────────┬────────────────────┬────────────────────────┬─────────────────────┬──────────────────────┬──────────────────────────┬──────────────────────┬───────────────────────┬──────────────────────┐\n",
      "│ Service:RDT-ID │ Service:Date │ Service:Type │ Service:Company │ Service:Train number │ Service:Completely cancelled │ Service:Partly cancelled │ Service:Maximum delay │ Stop:RDT-ID │ Stop:Station code │ Stop:Station name  │  Stop:Arrival time  │ Stop:Arrival delay │ Stop:Arrival cancelled │ Stop:Departure time │ Stop:Departure delay │ Stop:Departure cancelled │ Stop:Platform change │ Stop:Planned platform │ Stop:Actual platform │\n",
      "│     int64      │     date     │   varchar    │     varchar     │        int64         │           boolean            │         boolean          │         int64         │    int64    │      varchar      │      varchar       │      timestamp      │       int64        │        boolean         │      timestamp      │        int64         │         boolean          │       boolean        │        varchar        │       varchar        │\n",
      "├────────────────┼──────────────┼──────────────┼─────────────────┼──────────────────────┼──────────────────────────────┼──────────────────────────┼───────────────────────┼─────────────┼───────────────────┼────────────────────┼─────────────────────┼────────────────────┼────────────────────────┼─────────────────────┼──────────────────────┼──────────────────────────┼──────────────────────┼───────────────────────┼──────────────────────┤\n",
      "│         738804 │ 2019-01-01   │ Intercity    │ NS              │                 1410 │ false                        │ false                    │                     1 │     6220112 │ RTD               │ Rotterdam Centraal │ NULL                │               NULL │ NULL                   │ 2019-01-01 01:00:00 │                    1 │ false                    │ true                 │ 3                     │ 2                    │\n",
      "│         738804 │ 2019-01-01   │ Intercity    │ NS              │                 1410 │ false                        │ false                    │                     0 │     6220116 │ DT                │ Delft              │ 2019-01-01 01:12:00 │                  0 │ false                  │ 2019-01-01 01:12:00 │                    0 │ false                    │ false                │ 1                     │ 1                    │\n",
      "│         738804 │ 2019-01-01   │ Intercity    │ NS              │                 1410 │ false                        │ false                    │                     0 │     6220120 │ GV                │ Den Haag HS        │ 2019-01-01 01:20:00 │                  1 │ false                  │ 2019-01-01 01:21:00 │                    1 │ false                    │ false                │ 6                     │ 6                    │\n",
      "│         738804 │ 2019-01-01   │ Intercity    │ NS              │                 1410 │ false                        │ false                    │                     0 │     6220124 │ LEDN              │ Leiden Centraal    │ 2019-01-01 01:35:00 │                  0 │ false                  │ 2019-01-01 01:45:00 │                    0 │ false                    │ false                │ 5b                    │ 5b                   │\n",
      "│         738804 │ 2019-01-01   │ Intercity    │ NS              │                 1410 │ false                        │ false                    │                     0 │     6220128 │ SHL               │ Schiphol Airport   │ 2019-01-01 02:00:00 │                  0 │ false                  │ 2019-01-01 02:02:00 │                    0 │ false                    │ false                │ 3                     │ 3                    │\n",
      "└────────────────┴──────────────┴──────────────┴─────────────────┴──────────────────────┴──────────────────────────────┴──────────────────────────┴───────────────────────┴─────────────┴───────────────────┴────────────────────┴─────────────────────┴────────────────────┴────────────────────────┴─────────────────────┴──────────────────────┴──────────────────────────┴──────────────────────┴───────────────────────┴──────────────────────┘\n",
      "\n"
     ]
    }
   ],
   "source": [
    "db.sql(\"SELECT * FROM services LIMIT 5\").show()"
   ]
  },
  {
   "cell_type": "markdown",
   "id": "e5e75de3",
   "metadata": {},
   "source": [
    "## 7.i)   \n",
    "How many trains departed from Amsterdam Central station overall?"
   ]
  },
  {
   "cell_type": "code",
   "execution_count": 26,
   "id": "062c9406",
   "metadata": {},
   "outputs": [
    {
     "data": {
      "text/plain": [
       "┌──────────────────────┐\n",
       "│ ams_total_departures │\n",
       "│        int64         │\n",
       "├──────────────────────┤\n",
       "│              1667971 │\n",
       "└──────────────────────┘"
      ]
     },
     "execution_count": 26,
     "metadata": {},
     "output_type": "execute_result"
    }
   ],
   "source": [
    "\n",
    "db.sql(\"\"\"\n",
    "    SELECT COUNT(*) AS ams_total_departures\n",
    "    FROM services \n",
    "    WHERE \"Stop:Station name\" = 'Amsterdam Centraal' AND \"Stop:Departure time\" IS NOT NULL;\n",
    "\"\"\")\n",
    "\n"
   ]
  },
  {
   "cell_type": "markdown",
   "id": "13e17bbd",
   "metadata": {},
   "source": [
    "## 7.ii)\n",
    "Calculate the average arrival delay of different service types (Service:Type). Order results descending by average delay."
   ]
  },
  {
   "cell_type": "code",
   "execution_count": 29,
   "id": "cebc9881",
   "metadata": {},
   "outputs": [
    {
     "data": {
      "text/plain": [
       "┌──────────────────────┬────────────────────┐\n",
       "│     service_type     │   avg_arr_delay    │\n",
       "│       varchar        │       double       │\n",
       "├──────────────────────┼────────────────────┤\n",
       "│ Alpen Express        │  31.84254143646409 │\n",
       "│ Krokus Express       │ 18.304347826086957 │\n",
       "│ European Sleeper     │ 12.175902506323293 │\n",
       "│ Nightjet             │  9.012493009863528 │\n",
       "│ Eurostar             │   6.91274113952445 │\n",
       "│ Thalys               │ 5.3961896909446025 │\n",
       "│ ICE International    │  5.308921044515267 │\n",
       "│ Int. Trein           │  4.947807104584243 │\n",
       "│ Nachttrein           │   4.27683615819209 │\n",
       "│ Stoomtrein           │  3.366863905325444 │\n",
       "│     ·                │                 ·  │\n",
       "│     ·                │                 ·  │\n",
       "│     ·                │                 ·  │\n",
       "│ stoptrein            │                0.0 │\n",
       "│ Tram ipv trein       │                0.0 │\n",
       "│ Metro                │                0.0 │\n",
       "│ Snelbus i.p.v. trein │                0.0 │\n",
       "│ Niet instappen       │                0.0 │\n",
       "│ Taxibus ipv trein    │                0.0 │\n",
       "│ Metro ipv trein      │                0.0 │\n",
       "│ Bus                  │                0.0 │\n",
       "│ Belbus               │                0.0 │\n",
       "│ Tram i.p.v. trein    │                0.0 │\n",
       "├──────────────────────┴────────────────────┤\n",
       "│ 37 rows (20 shown)              2 columns │\n",
       "└───────────────────────────────────────────┘"
      ]
     },
     "execution_count": 29,
     "metadata": {},
     "output_type": "execute_result"
    }
   ],
   "source": [
    "db.sql(\"\"\"\n",
    "SELECT \"Service:Type\" AS service_type, AVG(\"Stop:Arrival delay\") AS avg_arr_delay\n",
    "FROM services\n",
    "WHERE \"Stop:Arrival delay\" IS NOT NULL\n",
    "GROUP BY service_type\n",
    "ORDER BY avg_arr_delay DESC;\n",
    "\"\"\")\n",
    "\n"
   ]
  },
  {
   "cell_type": "markdown",
   "id": "aa2695cd",
   "metadata": {},
   "source": [
    "## 7.iii)\n",
    "What was the most common disruption cause in different years? MODE function may be useful."
   ]
  },
  {
   "cell_type": "code",
   "execution_count": 31,
   "id": "32ba55fa",
   "metadata": {},
   "outputs": [
    {
     "data": {
      "text/plain": [
       "┌───────┬───────────────────┐\n",
       "│ year  │ most_common_cause │\n",
       "│ int64 │      varchar      │\n",
       "├───────┼───────────────────┤\n",
       "│  2011 │ broken down train │\n",
       "│  2012 │ points failure    │\n",
       "│  2013 │ points failure    │\n",
       "│  2014 │ broken down train │\n",
       "│  2015 │ broken down train │\n",
       "│  2016 │ broken down train │\n",
       "│  2017 │ broken down train │\n",
       "│  2018 │ broken down train │\n",
       "│  2019 │ broken down train │\n",
       "│  2020 │ broken down train │\n",
       "│  2021 │ broken down train │\n",
       "│  2022 │ broken down train │\n",
       "│  2023 │ broken down train │\n",
       "│  2024 │ broken down train │\n",
       "├───────┴───────────────────┤\n",
       "│ 14 rows         2 columns │\n",
       "└───────────────────────────┘"
      ]
     },
     "execution_count": 31,
     "metadata": {},
     "output_type": "execute_result"
    }
   ],
   "source": [
    "\n",
    "db.sql(\"\"\"\n",
    "SELECT \n",
    "EXTRACT(YEAR FROM \"start_time\") AS year,\n",
    "mode(\"cause_en\") AS most_common_cause\n",
    "FROM disruptions\n",
    "GROUP BY year\n",
    "\"\"\")\n",
    "\n"
   ]
  },
  {
   "cell_type": "markdown",
   "id": "7bb0bb8e",
   "metadata": {},
   "source": [
    "## 7.iv)   \n",
    "How many trains started their overall service in any Amsterdam station?"
   ]
  },
  {
   "cell_type": "code",
   "execution_count": null,
   "id": "85b58bef",
   "metadata": {},
   "outputs": [],
   "source": []
  },
  {
   "cell_type": "markdown",
   "id": "fb3efff5",
   "metadata": {},
   "source": [
    "## 7.v) What fraction of services was run to final destinations outside the Netherlands?"
   ]
  },
  {
   "cell_type": "code",
   "execution_count": null,
   "id": "afddeb38",
   "metadata": {},
   "outputs": [],
   "source": []
  },
  {
   "cell_type": "markdown",
   "id": "0f475dab",
   "metadata": {},
   "source": [
    "## 7.vi) What is the largest distance between stations in the Netherlands (code NL)?"
   ]
  },
  {
   "cell_type": "code",
   "execution_count": null,
   "id": "e252cc9c",
   "metadata": {},
   "outputs": [],
   "source": []
  },
  {
   "cell_type": "markdown",
   "id": "40313fc1",
   "metadata": {},
   "source": [
    "## 7.vii) Compare the average arrival delay between different train operators (Service:Company) on a bar plot. Sort them appropriately."
   ]
  },
  {
   "cell_type": "code",
   "execution_count": null,
   "id": "bb7aab30",
   "metadata": {},
   "outputs": [],
   "source": []
  },
  {
   "cell_type": "markdown",
   "id": "2bdfa01d",
   "metadata": {},
   "source": [
    "## 7.viii) How many services were disrupted in different years? Make a line plot."
   ]
  },
  {
   "cell_type": "code",
   "execution_count": null,
   "id": "38f66988",
   "metadata": {},
   "outputs": [],
   "source": []
  },
  {
   "cell_type": "markdown",
   "id": "5faae8cc",
   "metadata": {},
   "source": [
    "## 7.ix) What fraction of all services were cancelled (Service:Completely cancelled) in different years? Make a line plot."
   ]
  },
  {
   "cell_type": "code",
   "execution_count": null,
   "id": "4112f2d2",
   "metadata": {},
   "outputs": [],
   "source": []
  }
 ],
 "metadata": {
  "kernelspec": {
   "display_name": "lab_2MLProject (3.11.13)",
   "language": "python",
   "name": "python3"
  },
  "language_info": {
   "codemirror_mode": {
    "name": "ipython",
    "version": 3
   },
   "file_extension": ".py",
   "mimetype": "text/x-python",
   "name": "python",
   "nbconvert_exporter": "python",
   "pygments_lexer": "ipython3",
   "version": "3.11.13"
  }
 },
 "nbformat": 4,
 "nbformat_minor": 5
}
